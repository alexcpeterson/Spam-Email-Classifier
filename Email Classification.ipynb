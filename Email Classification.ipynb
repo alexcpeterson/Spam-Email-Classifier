{
 "cells": [
  {
   "cell_type": "markdown",
   "metadata": {},
   "source": [
    "# Building a spam email classifier\n",
    "## Practice with: Feature Engineering, Logistic Regression, Cross Validation"
   ]
  },
  {
   "cell_type": "code",
   "execution_count": 1,
   "metadata": {},
   "outputs": [],
   "source": [
    "import numpy as np\n",
    "import pandas as pd\n",
    "import re\n",
    "\n",
    "import matplotlib.pyplot as plt\n",
    "%matplotlib inline\n",
    "\n",
    "import seaborn as sns\n",
    "sns.set(style = \"whitegrid\", \n",
    "        color_codes = True,\n",
    "        font_scale = 1.5)"
   ]
  },
  {
   "cell_type": "code",
   "execution_count": 3,
   "metadata": {},
   "outputs": [
    {
     "name": "stdout",
     "output_type": "stream",
     "text": [
      "Using version already downloaded: Fri Apr  5 08:00:24 2019\n",
      "MD5 hash of file: 0380c4cf72746622947b9ca5db9b8be8\n",
      "Using version already downloaded: Fri Apr  5 08:00:26 2019\n",
      "MD5 hash of file: a2e7abd8c7d9abf6e6fafc1d1f9ee6bf\n"
     ]
    }
   ],
   "source": [
    "from utils import fetch_and_cache_gdrive\n",
    "fetch_and_cache_gdrive('1SCASpLZFKCp2zek-toR3xeKX3DZnBSyp', 'train.csv')\n",
    "fetch_and_cache_gdrive('1ZDFo9OTF96B5GP2Nzn8P8-AL7CTQXmC0', 'test.csv')\n",
    "\n",
    "original_training_data = pd.read_csv('data/train.csv')\n",
    "test = pd.read_csv('data/test.csv')\n",
    "\n",
    "# Convert the emails to lower case as a first step to processing the text\n",
    "original_training_data['email'] = original_training_data['email'].str.lower()\n",
    "test['email'] = test['email'].str.lower()"
   ]
  },
  {
   "cell_type": "code",
   "execution_count": 4,
   "metadata": {},
   "outputs": [
    {
     "data": {
      "text/plain": [
       "id         0\n",
       "subject    0\n",
       "email      0\n",
       "spam       0\n",
       "dtype: int64"
      ]
     },
     "execution_count": 4,
     "metadata": {},
     "output_type": "execute_result"
    }
   ],
   "source": [
    "#fix missing values\n",
    "original_training_data.isnull().sum()\n",
    "original_training_data['subject'] = original_training_data['subject'].replace({np.nan:''})\n",
    "original_training_data.isnull().sum()"
   ]
  },
  {
   "cell_type": "markdown",
   "metadata": {},
   "source": [
    "Train / Test Split"
   ]
  },
  {
   "cell_type": "code",
   "execution_count": 6,
   "metadata": {},
   "outputs": [],
   "source": [
    "from sklearn.model_selection import train_test_split\n",
    "\n",
    "train, val = train_test_split(original_training_data, test_size=0.1, random_state=42)"
   ]
  },
  {
   "cell_type": "markdown",
   "metadata": {},
   "source": [
    "In order to build a classifier we have to first build a feature matrix. Since the data we currently have are all text based, we need to divise a way to turn these into numerical (ideally 0/1) data."
   ]
  },
  {
   "cell_type": "markdown",
   "metadata": {},
   "source": [
    "We start by building a function which takes list of words and compares it to a pandas Series to determine whether a word  is included in each element of the series. \n",
    "\n",
    "e.g.:\n",
    "\n",
    "```\n",
    ">>> words_in_texts(['hello', 'bye', 'world'], \n",
    "                   pd.Series(['hello', 'hello worldhello']))\n",
    "\n",
    "array([[1, 0, 0],\n",
    "       [1, 0, 1]])\n",
    "```"
   ]
  },
  {
   "cell_type": "code",
   "execution_count": 8,
   "metadata": {},
   "outputs": [],
   "source": [
    "def words_in_texts(words, texts):\n",
    "    '''\n",
    "    Args:\n",
    "        words (list-like): words to find\n",
    "        texts (Series): strings to search in\n",
    "    \n",
    "    Returns:\n",
    "        NumPy array of 0s and 1s with shape (n, p) where n is the\n",
    "        number of texts and p is the number of words.\n",
    "    '''\n",
    "    indicator_array = np.zeros((texts.size,len(words)),dtype=int)\n",
    "    for i in range(texts.size):\n",
    "        for word in words:\n",
    "            if word in texts.iloc[i]:\n",
    "                indicator_array[i,words.index(word)] = 1\n",
    "    return indicator_array"
   ]
  },
  {
   "cell_type": "markdown",
   "metadata": {},
   "source": [
    "We want to identify certain features which differentiate a spam and non-spam email, one simple way is comparing the distribution of instances of words within email bodies, since this is a binary indicator and quite easily compared. This means finding words which have high prevelances, but are disproportionately found in one type of email or the other."
   ]
  },
  {
   "cell_type": "code",
   "execution_count": 9,
   "metadata": {},
   "outputs": [
    {
     "name": "stderr",
     "output_type": "stream",
     "text": [
      "C:\\Users\\alexc\\Anaconda3\\lib\\site-packages\\seaborn\\categorical.py:3666: UserWarning: The `factorplot` function has been renamed to `catplot`. The original name will be removed in a future release. Please update your code. Note that the default `kind` in `factorplot` (`'point'`) has changed `'strip'` in `catplot`.\n",
      "  warnings.warn(msg)\n"
     ]
    },
    {
     "data": {
      "image/png": "[encoded data removed]",
      "text/plain": [
       "<Figure size 360x360 with 1 Axes>"
      ]
     },
     "metadata": {},
     "output_type": "display_data"
    }
   ],
   "source": [
    "train=train.reset_index(drop=True) # We must do this in order to preserve the ordering of emails to labels for words_in_texts\n",
    "train_copy = train.copy()\n",
    "words = ['value','remove','body','deal','removal','html','please']\n",
    "word_array = words_in_texts(words,train.email)\n",
    "for word in words: \n",
    "    train_copy[word] = word_array[:,words.index(word)]\n",
    "melted_train = train_copy[words+['spam']].melt('spam')\n",
    "sns.set(rc={'figure.figsize':(8,5.65)})\n",
    "sns.factorplot(x='variable',y='value',hue='spam',data=melted_train,kind='bar',ci=None,legend=False)\n",
    "plt.xlabel('Words')\n",
    "plt.legend(['Ham','Spam'])\n",
    "plt.title('Frequency of Words in Spam/Ham emails')\n",
    "plt.ylabel('Proportion of emails')\n",
    "plt.show();"
   ]
  },
  {
   "cell_type": "markdown",
   "metadata": {},
   "source": [
    "Additionally we can compare the distribution of the lengths of the two types of emails "
   ]
  },
  {
   "cell_type": "code",
   "execution_count": 10,
   "metadata": {},
   "outputs": [
    {
     "data": {
      "image/png": "[encoded data removed]",
      "text/plain": [
       "<Figure size 576x406.8 with 1 Axes>"
      ]
     },
     "metadata": {},
     "output_type": "display_data"
    }
   ],
   "source": [
    "train['length'] = [len(email) for email in train.email.values]\n",
    "sns.distplot(train[train.spam==0].length,hist=False,label='Ham')\n",
    "sns.distplot(train[train.spam == 1].length,hist=False,label='Spam')\n",
    "plt.xlim([0,50000])\n",
    "plt.xlabel('Length of email body')\n",
    "plt.ylabel('Distribution')\n",
    "plt.title('Distribution of Lengths of emails for Spam/Ham emails')\n",
    "plt.show()"
   ]
  },
  {
   "cell_type": "code",
   "execution_count": 11,
   "metadata": {},
   "outputs": [],
   "source": [
    "def format_data(data):\n",
    "    \"\"\"\n",
    "    DATA: a dataframe of N rows with (at least) the following columns:\n",
    "        subject: string representing the subject of the email\n",
    "        email: string representing the text content of the email\n",
    "    \n",
    "    #######\n",
    "    format_data takes the input dataframe and produces an array of dimensions N x 13 \n",
    "    where 13 is the total number of observations included in the regression model.\n",
    "    RETURNS: X_test, an N x 13 array \n",
    "    \"\"\"\n",
    "    #remove NaN from subject\n",
    "    data['subject'] = data['subject'].replace({np.nan:''})\n",
    "    model_words=['<body>', '<html>', 'please', 'offer', '<head>','<table>','remove','valued','removal','unsubscribe']\n",
    "    #emails below 15,000 char threshold\n",
    "    short_emails = [1 if len(email)<15000 else 0 for email in data.email.values] \n",
    "    # total count of puncuation in each email body\n",
    "    punc_count = [len(re.findall(r'[!#?.,@]',email)) for email in data.email.values]\n",
    "    # total count of email addresses in email body (code borrowed from emailregex.com)\n",
    "    address_count = [len(re.findall(r\"(^[a-zA-Z0-9_.+-]+@[a-zA-Z0-9-]+\\.[a-zA-Z0-9-.]+$)\",email)) for email in data.email.values]\n",
    "    # is a reply\n",
    "    reply = [1 if 'Re:' in subject else 0 for subject in data.subject.values]\n",
    "    \n",
    "    X_train = words_in_texts(model_words,data.email)\n",
    "    X_train = np.c_[X_train,short_emails,punc_count,address_count,reply]\n",
    "    return X_train"
   ]
  },
  {
   "cell_type": "code",
   "execution_count": 18,
   "metadata": {},
   "outputs": [],
   "source": [
    "X_train = format_data(train)\n",
    "Y_train = train.spam"
   ]
  },
  {
   "cell_type": "code",
   "execution_count": 19,
   "metadata": {},
   "outputs": [
    {
     "name": "stdout",
     "output_type": "stream",
     "text": [
      "Training Accuracy:  0.9005723412751231\n"
     ]
    },
    {
     "name": "stderr",
     "output_type": "stream",
     "text": [
      "C:\\Users\\alexc\\Anaconda3\\lib\\site-packages\\sklearn\\linear_model\\logistic.py:432: FutureWarning: Default solver will be changed to 'lbfgs' in 0.22. Specify a solver to silence this warning.\n",
      "  FutureWarning)\n"
     ]
    }
   ],
   "source": [
    "from sklearn.linear_model import LogisticRegression\n",
    "model = LogisticRegression().fit(X_train,Y_train)\n",
    "prediction = model.predict(X_train)\n",
    "training_accuracy = np.mean([1 if prediction[x] == Y_train[x] else 0 for x in range(len(prediction))])\n",
    "print(\"Training Accuracy: \", training_accuracy)"
   ]
  }
 ],
 "metadata": {
  "kernelspec": {
   "display_name": "Python 3",
   "language": "python",
   "name": "python3"
  },
  "language_info": {
   "codemirror_mode": {
    "name": "ipython",
    "version": 3
   },
   "file_extension": ".py",
   "mimetype": "text/x-python",
   "name": "python",
   "nbconvert_exporter": "python",
   "pygments_lexer": "ipython3",
   "version": "3.7.4"
  }
 },
 "nbformat": 4,
 "nbformat_minor": 2
}
